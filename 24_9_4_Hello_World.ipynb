{
  "nbformat": 4,
  "nbformat_minor": 0,
  "metadata": {
    "colab": {
      "provenance": []
    },
    "kernelspec": {
      "name": "python3",
      "display_name": "Python 3"
    },
    "language_info": {
      "name": "python"
    }
  },
  "cells": [
    {
      "cell_type": "code",
      "execution_count": null,
      "metadata": {
        "id": "idrce1paQ1J_"
      },
      "outputs": [],
      "source": [
        "print(\"Hello World!!\")"
      ]
    },
    {
      "cell_type": "code",
      "source": [
        "print(\"easy\")"
      ],
      "metadata": {
        "id": "QVpjbHSKRZR4"
      },
      "execution_count": null,
      "outputs": []
    },
    {
      "cell_type": "code",
      "source": [
        "import pylab as py\n",
        "\n",
        "x_deg = py.arange(-180, 180+1,)\n",
        "x_rad = py.deg2rad(x_deg)\n",
        "y = py.sin(x_rad)\n",
        "\n",
        "py.plot(x_deg, y)\n",
        "\n",
        "py.xlabel('x (deg)')\n",
        "py.ylabel('sin(x)')\n",
        "py.grid(True)"
      ],
      "metadata": {
        "id": "QIl0WeksdklZ"
      },
      "execution_count": null,
      "outputs": []
    }
  ]
}